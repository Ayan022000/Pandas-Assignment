{
 "cells": [
  {
   "cell_type": "code",
   "execution_count": 1,
   "id": "e159fcf8",
   "metadata": {},
   "outputs": [],
   "source": [
    "import pandas as pd   "
   ]
  },
  {
   "cell_type": "markdown",
   "id": "c8f2cff9",
   "metadata": {},
   "source": [
    "# Q 1."
   ]
  },
  {
   "cell_type": "markdown",
   "id": "d69ac311",
   "metadata": {},
   "source": [
    "## Create a Pandas Series that contains the following data: 4, 8, 15, 16, 23, and 42. Then, print the series."
   ]
  },
  {
   "cell_type": "code",
   "execution_count": 2,
   "id": "0c20b7b6",
   "metadata": {},
   "outputs": [
    {
     "data": {
      "text/plain": [
       "0     4\n",
       "1     8\n",
       "2    15\n",
       "3    16\n",
       "4    23\n",
       "5    42\n",
       "dtype: int64"
      ]
     },
     "execution_count": 2,
     "metadata": {},
     "output_type": "execute_result"
    }
   ],
   "source": [
    "pd.Series([4,8,15,16,23,42])"
   ]
  },
  {
   "cell_type": "markdown",
   "id": "d7230134",
   "metadata": {},
   "source": [
    "# Q 2."
   ]
  },
  {
   "cell_type": "markdown",
   "id": "1447f475",
   "metadata": {},
   "source": [
    "## Create a variable of list type containing 10 elements in it, and apply pandas.Series function on the variable print it."
   ]
  },
  {
   "cell_type": "code",
   "execution_count": 3,
   "id": "afc99a8f",
   "metadata": {},
   "outputs": [
    {
     "data": {
      "text/plain": [
       "0     1\n",
       "1     2\n",
       "2     3\n",
       "3     4\n",
       "4     5\n",
       "5     6\n",
       "6     7\n",
       "7     8\n",
       "8     9\n",
       "9    10\n",
       "dtype: int64"
      ]
     },
     "execution_count": 3,
     "metadata": {},
     "output_type": "execute_result"
    }
   ],
   "source": [
    "l = [1,2,3,4,5,6,7,8,9,10]\n",
    "pd.Series(l)"
   ]
  },
  {
   "cell_type": "markdown",
   "id": "8810f696",
   "metadata": {},
   "source": [
    "# Q 3."
   ]
  },
  {
   "cell_type": "markdown",
   "id": "3031474f",
   "metadata": {},
   "source": [
    "## Create a Pandas DataFrame that contains the following data:\n",
    "## Then, print the DataFrame."
   ]
  },
  {
   "cell_type": "code",
   "execution_count": 4,
   "id": "96eabc39",
   "metadata": {},
   "outputs": [
    {
     "data": {
      "text/html": [
       "<div>\n",
       "<style scoped>\n",
       "    .dataframe tbody tr th:only-of-type {\n",
       "        vertical-align: middle;\n",
       "    }\n",
       "\n",
       "    .dataframe tbody tr th {\n",
       "        vertical-align: top;\n",
       "    }\n",
       "\n",
       "    .dataframe thead th {\n",
       "        text-align: right;\n",
       "    }\n",
       "</style>\n",
       "<table border=\"1\" class=\"dataframe\">\n",
       "  <thead>\n",
       "    <tr style=\"text-align: right;\">\n",
       "      <th></th>\n",
       "      <th>Name</th>\n",
       "      <th>Age</th>\n",
       "      <th>Gender</th>\n",
       "    </tr>\n",
       "  </thead>\n",
       "  <tbody>\n",
       "    <tr>\n",
       "      <th>0</th>\n",
       "      <td>Ailce</td>\n",
       "      <td>25</td>\n",
       "      <td>Female</td>\n",
       "    </tr>\n",
       "    <tr>\n",
       "      <th>1</th>\n",
       "      <td>Bob</td>\n",
       "      <td>30</td>\n",
       "      <td>Male</td>\n",
       "    </tr>\n",
       "    <tr>\n",
       "      <th>2</th>\n",
       "      <td>Clair</td>\n",
       "      <td>27</td>\n",
       "      <td>Female</td>\n",
       "    </tr>\n",
       "  </tbody>\n",
       "</table>\n",
       "</div>"
      ],
      "text/plain": [
       "    Name  Age  Gender\n",
       "0  Ailce   25  Female\n",
       "1    Bob   30    Male\n",
       "2  Clair   27  Female"
      ]
     },
     "execution_count": 4,
     "metadata": {},
     "output_type": "execute_result"
    }
   ],
   "source": [
    "df= pd.DataFrame({'Name':['Ailce','Bob','Clair'],\n",
    "               'Age':[25,30,27],\n",
    "               'Gender':['Female','Male','Female']\n",
    "             })\n",
    "df"
   ]
  },
  {
   "cell_type": "markdown",
   "id": "ba86a42b",
   "metadata": {},
   "source": [
    "# Q 4."
   ]
  },
  {
   "cell_type": "markdown",
   "id": "d8c88a74",
   "metadata": {},
   "source": [
    "## What is ‘DataFrame’ in pandas and how is it different from pandas.series? Explain with an example."
   ]
  },
  {
   "cell_type": "markdown",
   "id": "ddd17ebc",
   "metadata": {},
   "source": [
    "In Pandas, a DataFrame is a 2-dimensional labeled data structure with columns of potentially different types. It is similar to a spreadsheet or SQL table, where data is organized in rows and columns. A pandas series, on the other hand, is a one-dimensional labeled array capable of holding any data type."
   ]
  },
  {
   "cell_type": "code",
   "execution_count": 5,
   "id": "226996ff",
   "metadata": {},
   "outputs": [
    {
     "data": {
      "text/html": [
       "<div>\n",
       "<style scoped>\n",
       "    .dataframe tbody tr th:only-of-type {\n",
       "        vertical-align: middle;\n",
       "    }\n",
       "\n",
       "    .dataframe tbody tr th {\n",
       "        vertical-align: top;\n",
       "    }\n",
       "\n",
       "    .dataframe thead th {\n",
       "        text-align: right;\n",
       "    }\n",
       "</style>\n",
       "<table border=\"1\" class=\"dataframe\">\n",
       "  <thead>\n",
       "    <tr style=\"text-align: right;\">\n",
       "      <th></th>\n",
       "      <th>Name</th>\n",
       "      <th>Age</th>\n",
       "      <th>Gender</th>\n",
       "    </tr>\n",
       "  </thead>\n",
       "  <tbody>\n",
       "    <tr>\n",
       "      <th>0</th>\n",
       "      <td>Ailce</td>\n",
       "      <td>25</td>\n",
       "      <td>Female</td>\n",
       "    </tr>\n",
       "    <tr>\n",
       "      <th>1</th>\n",
       "      <td>Bob</td>\n",
       "      <td>30</td>\n",
       "      <td>Male</td>\n",
       "    </tr>\n",
       "    <tr>\n",
       "      <th>2</th>\n",
       "      <td>Clair</td>\n",
       "      <td>27</td>\n",
       "      <td>Female</td>\n",
       "    </tr>\n",
       "  </tbody>\n",
       "</table>\n",
       "</div>"
      ],
      "text/plain": [
       "    Name  Age  Gender\n",
       "0  Ailce   25  Female\n",
       "1    Bob   30    Male\n",
       "2  Clair   27  Female"
      ]
     },
     "execution_count": 5,
     "metadata": {},
     "output_type": "execute_result"
    }
   ],
   "source": [
    "# for example , df is a DataFrame\n",
    "df"
   ]
  },
  {
   "cell_type": "code",
   "execution_count": 6,
   "id": "9566f073",
   "metadata": {},
   "outputs": [
    {
     "data": {
      "text/plain": [
       "0    25\n",
       "1    30\n",
       "2    27\n",
       "Name: Age, dtype: int64"
      ]
     },
     "execution_count": 6,
     "metadata": {},
     "output_type": "execute_result"
    }
   ],
   "source": [
    "# where as \n",
    "df['Age'] #it is a Pandas series "
   ]
  },
  {
   "cell_type": "markdown",
   "id": "203dceae",
   "metadata": {},
   "source": [
    "# Q 5."
   ]
  },
  {
   "cell_type": "markdown",
   "id": "bc8652b4",
   "metadata": {},
   "source": [
    "## What are some common functions you can use to manipulate data in a Pandas DataFrame? Can you give an example of when you might use one of these functions?"
   ]
  },
  {
   "cell_type": "markdown",
   "id": "7b9c8e67",
   "metadata": {},
   "source": [
    "Pandas provides a wide range of functions to manipulate data in a DataFrame. Some common functions that are frequently used are:\n",
    "\n",
    "head() and tail(): Used to view the top or bottom rows of the DataFrame, respectively. These are useful to get a quick view of the data and check if it is loaded correctly. For example, df.head() will show the first 5 rows of the DataFrame.\n",
    "\n",
    "describe(): Provides summary statistics for numerical columns in the DataFrame. For example, df.describe() will give you the count, mean, standard deviation, minimum, and maximum values for all numerical columns in the DataFrame.\n",
    "\n",
    "drop(): Used to drop specified rows or columns from the DataFrame. For example, df.drop('column_name', axis=1) will drop a column named 'column_name' from the DataFrame.\n",
    "\n",
    "fillna(): Used to fill null or missing values in the DataFrame with a specified value or method. For example, df.fillna(0) will fill all null values in the DataFrame with 0.\n",
    "\n",
    "groupby(): Used to group data based on one or more columns and perform aggregate functions on them. For example, df.groupby('column_name').mean() will group the data based on unique values in 'column_name' and calculate the mean of all numerical columns.\n",
    "\n",
    "sort_values(): Used to sort the DataFrame based on one or more columns. For example, df.sort_values('column_name') will sort the DataFrame based on values in 'column_name'.\n",
    "\n",
    "apply(): Used to apply a function to one or more columns in the DataFrame. For example, df['column_name'].apply(function) will apply a function to values in 'column_name'."
   ]
  },
  {
   "cell_type": "markdown",
   "id": "7703a911",
   "metadata": {},
   "source": [
    "# Q 6."
   ]
  },
  {
   "cell_type": "markdown",
   "id": "1e1d30a7",
   "metadata": {},
   "source": [
    "## Which of the following is mutable in nature Series, DataFrame, Panel?"
   ]
  },
  {
   "cell_type": "markdown",
   "id": "4dcb650c",
   "metadata": {},
   "source": [
    "Among the three data structures - Series, DataFrame, and Panel - only DataFrame is mutable in nature. This means that we can modify the data in a DataFrame after it has been created."
   ]
  },
  {
   "cell_type": "markdown",
   "id": "93405271",
   "metadata": {},
   "source": [
    "# Q 7. "
   ]
  },
  {
   "cell_type": "markdown",
   "id": "a71bf1af",
   "metadata": {},
   "source": [
    "## Create a DataFrame using multiple Series. Explain with an example."
   ]
  },
  {
   "cell_type": "code",
   "execution_count": 7,
   "id": "c217ab84",
   "metadata": {},
   "outputs": [
    {
     "data": {
      "text/html": [
       "<div>\n",
       "<style scoped>\n",
       "    .dataframe tbody tr th:only-of-type {\n",
       "        vertical-align: middle;\n",
       "    }\n",
       "\n",
       "    .dataframe tbody tr th {\n",
       "        vertical-align: top;\n",
       "    }\n",
       "\n",
       "    .dataframe thead th {\n",
       "        text-align: right;\n",
       "    }\n",
       "</style>\n",
       "<table border=\"1\" class=\"dataframe\">\n",
       "  <thead>\n",
       "    <tr style=\"text-align: right;\">\n",
       "      <th></th>\n",
       "      <th>Name</th>\n",
       "      <th>Score</th>\n",
       "      <th>Age</th>\n",
       "    </tr>\n",
       "  </thead>\n",
       "  <tbody>\n",
       "    <tr>\n",
       "      <th>0</th>\n",
       "      <td>X</td>\n",
       "      <td>2</td>\n",
       "      <td>12</td>\n",
       "    </tr>\n",
       "    <tr>\n",
       "      <th>1</th>\n",
       "      <td>Y</td>\n",
       "      <td>3</td>\n",
       "      <td>54</td>\n",
       "    </tr>\n",
       "    <tr>\n",
       "      <th>2</th>\n",
       "      <td>Z</td>\n",
       "      <td>5</td>\n",
       "      <td>67</td>\n",
       "    </tr>\n",
       "  </tbody>\n",
       "</table>\n",
       "</div>"
      ],
      "text/plain": [
       "  Name  Score  Age\n",
       "0    X      2   12\n",
       "1    Y      3   54\n",
       "2    Z      5   67"
      ]
     },
     "execution_count": 7,
     "metadata": {},
     "output_type": "execute_result"
    }
   ],
   "source": [
    "a = pd.Series(['X','Y','Z'])\n",
    "b= pd.Series([2,3,5])\n",
    "c= pd.Series([12,54,67])\n",
    "df1 = pd.DataFrame({'Name':a, 'Score':b, 'Age':c})\n",
    "df1"
   ]
  }
 ],
 "metadata": {
  "kernelspec": {
   "display_name": "Python 3 (ipykernel)",
   "language": "python",
   "name": "python3"
  },
  "language_info": {
   "codemirror_mode": {
    "name": "ipython",
    "version": 3
   },
   "file_extension": ".py",
   "mimetype": "text/x-python",
   "name": "python",
   "nbconvert_exporter": "python",
   "pygments_lexer": "ipython3",
   "version": "3.9.13"
  }
 },
 "nbformat": 4,
 "nbformat_minor": 5
}
